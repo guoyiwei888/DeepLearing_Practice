{
 "cells": [
  {
   "metadata": {},
   "cell_type": "markdown",
   "source": "向量与列表切片的操作完全一致，因此本页内容在 Python 基础中均有涉及。\n",
   "id": "4952661e89b2d302"
  },
  {
   "metadata": {
    "ExecuteTime": {
     "end_time": "2025-10-20T13:23:41.865408Z",
     "start_time": "2025-10-20T13:23:41.822019Z"
    }
   },
   "cell_type": "code",
   "source": "import numpy as np",
   "id": "ae584d22f5a3e98e",
   "outputs": [],
   "execution_count": 2
  },
  {
   "metadata": {},
   "cell_type": "code",
   "outputs": [],
   "execution_count": null,
   "source": [
    "arr1 = np.arange(1,10)\n",
    "print(arr1)\n",
    "print(arr1[1:4])        #从索引[1]开始，切到索引[4]之前\n",
    "print(arr1[1:])         #从索引[1]开始，切到结尾\n",
    "print(arr1[:4])         #从数组开头开始，切到索引[4]之前"
   ],
   "id": "593681027485010d"
  },
  {
   "metadata": {},
   "cell_type": "code",
   "outputs": [],
   "execution_count": null,
   "source": [
    "#矩阵的切片\n",
    "arr2 = np.arange(1,21).reshape(4,5)\n",
    "print(arr2)\n",
    "print(arr2[1:3,1:-1])\n",
    "print(arr2[::3,::2])"
   ],
   "id": "5dca727bdb7c2b4d"
  },
  {
   "metadata": {},
   "cell_type": "code",
   "outputs": [],
   "execution_count": null,
   "source": [
    "#提取矩阵的行\n",
    "arr3 = np.arange(1,21).reshape(4,5)\n",
    "print(arr3)\n",
    "print(arr3[2,:])            #提取第二行\n",
    "print(arr3[1:3,:])          #提取1至2行\n",
    "print(arr3[2,:])            #规范的提取行\n",
    "print(arr3[2])              #简便的提取行\n"
   ],
   "id": "99ce73bdb1922d47"
  },
  {
   "metadata": {},
   "cell_type": "code",
   "outputs": [],
   "execution_count": null,
   "source": [
    "#提取矩阵的列\n",
    "arr4 = np.arange(1,21).reshape(4,5)\n",
    "print(arr4)\n",
    "print(arr4[:,2])        #提取第2列（注意，提取的是向量）\n",
    "print(arr4[:,1:3])      #提取1至2列"
   ],
   "id": "9a929f87184a33da"
  },
  {
   "metadata": {},
   "cell_type": "markdown",
   "source": [
    "值得注意的是，提取某一个单独的列时，出来的结果是一个向量。其实这么做只是为了省空间，我们知道，列矩阵必须用两层中括号来存储，而形状为 1000 的向量，自然比形状为(1000,1)的列矩阵更省空间（节约了 1000 对括号）。\n",
    "\n",
    "如果你真的想要提取一个列矩阵出来，示例如下。"
   ],
   "id": "dc459ac2a96c2c91"
  },
  {
   "metadata": {
    "ExecuteTime": {
     "end_time": "2025-10-20T13:36:35.495640Z",
     "start_time": "2025-10-20T13:36:35.492967Z"
    }
   },
   "cell_type": "code",
   "source": [
    "arr5 = np.arange(1,16).reshape(3,5)\n",
    "print(arr5)\n",
    "cut = arr5[:,2]                 #提取第2列向量\n",
    "print(cut)\n",
    "cut = cut.reshape((-1,3))       #升级为矩阵，也可将后面写成-1  即将3写为-1  也可写为（-1,1）\n",
    "print(cut)\n",
    "\n"
   ],
   "id": "c403cf580c2593db",
   "outputs": [
    {
     "name": "stdout",
     "output_type": "stream",
     "text": [
      "[[ 1  2  3  4  5]\n",
      " [ 6  7  8  9 10]\n",
      " [11 12 13 14 15]]\n",
      "[ 3  8 13]\n",
      "[[ 3  8 13]]\n"
     ]
    }
   ],
   "execution_count": 34
  }
 ],
 "metadata": {
  "kernelspec": {
   "display_name": "Python 3",
   "language": "python",
   "name": "python3"
  },
  "language_info": {
   "codemirror_mode": {
    "name": "ipython",
    "version": 2
   },
   "file_extension": ".py",
   "mimetype": "text/x-python",
   "name": "python",
   "nbconvert_exporter": "python",
   "pygments_lexer": "ipython2",
   "version": "2.7.6"
  }
 },
 "nbformat": 4,
 "nbformat_minor": 5
}
