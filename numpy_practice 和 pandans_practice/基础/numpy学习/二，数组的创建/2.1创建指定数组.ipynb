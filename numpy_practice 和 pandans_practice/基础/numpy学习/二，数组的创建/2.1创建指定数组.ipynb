{
 "cells": [
  {
   "cell_type": "code",
   "execution_count": null,
   "id": "initial_id",
   "metadata": {
    "collapsed": true
   },
   "outputs": [],
   "source": [
    "import numpy as np\n",
    "arr1 = np.array([1,2,3])            #创建一维数组\n",
    "arr2 = np.array([[4,5,6]])          #二维数组--行矩阵\n",
    "arr3 = np.array([[7],[8],[9]])      #二维数组--列矩阵\n",
    "print(arr1)\n",
    "print(arr2)\n",
    "print(arr3)"
   ]
  }
 ],
 "metadata": {
  "kernelspec": {
   "display_name": "Python 3",
   "language": "python",
   "name": "python3"
  },
  "language_info": {
   "codemirror_mode": {
    "name": "ipython",
    "version": 2
   },
   "file_extension": ".py",
   "mimetype": "text/x-python",
   "name": "python",
   "nbconvert_exporter": "python",
   "pygments_lexer": "ipython2",
   "version": "2.7.6"
  }
 },
 "nbformat": 4,
 "nbformat_minor": 5
}
