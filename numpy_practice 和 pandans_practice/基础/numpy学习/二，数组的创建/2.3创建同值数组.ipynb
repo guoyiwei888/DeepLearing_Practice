{
 "cells": [
  {
   "metadata": {
    "collapsed": true
   },
   "cell_type": "markdown",
   "source": "需要创建同值数组时，使用np.zeros()函数以及np.ones()函数",
   "id": "60f51182d6c3351"
  },
  {
   "metadata": {
    "ExecuteTime": {
     "end_time": "2025-10-20T12:26:05.654776Z",
     "start_time": "2025-10-20T12:26:05.609985Z"
    }
   },
   "cell_type": "code",
   "source": "import numpy as np",
   "id": "b49aff1e9df796bd",
   "outputs": [],
   "execution_count": 1
  },
  {
   "metadata": {},
   "cell_type": "code",
   "outputs": [],
   "execution_count": null,
   "source": [
    "arr1 = np.zeros(3)\n",
    "print(arr1)     #全0数组"
   ],
   "id": "b9cc221659074155"
  },
  {
   "metadata": {},
   "cell_type": "code",
   "outputs": [],
   "execution_count": null,
   "source": [
    "arr2 = np.ones((1,3))       #全1数组\n",
    "print(arr2)"
   ],
   "id": "884bd98196c75ee"
  },
  {
   "metadata": {},
   "cell_type": "code",
   "outputs": [],
   "execution_count": null,
   "source": [
    "arr3 = 3.14*np.ones((2,3))\n",
    "print(arr3)"
   ],
   "id": "3535aa27bc02ccc"
  },
  {
   "metadata": {},
   "cell_type": "markdown",
   "source": "注意上述输出为浮点型数组，可能是为了插入的浮点数被截断",
   "id": "b8565f2ce7817bbd"
  }
 ],
 "metadata": {
  "kernelspec": {
   "display_name": "Python 3",
   "language": "python",
   "name": "python3"
  },
  "language_info": {
   "codemirror_mode": {
    "name": "ipython",
    "version": 2
   },
   "file_extension": ".py",
   "mimetype": "text/x-python",
   "name": "python",
   "nbconvert_exporter": "python",
   "pygments_lexer": "ipython2",
   "version": "2.7.6"
  }
 },
 "nbformat": 4,
 "nbformat_minor": 5
}
