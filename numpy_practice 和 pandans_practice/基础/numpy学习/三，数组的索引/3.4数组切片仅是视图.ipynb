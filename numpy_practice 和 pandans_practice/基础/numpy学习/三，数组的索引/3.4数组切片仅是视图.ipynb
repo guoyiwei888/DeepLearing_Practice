{
 "cells": [
  {
   "metadata": {
    "collapsed": true
   },
   "cell_type": "markdown",
   "source": [
    "（1）数组切片仅是视图\n",
    "与 Python 列表和 Matlab 不同，NumPy 数组的切片仅仅是原数组的一个视图。换言之，NumPy 切片并不会创建新的变量，示例如下。"
   ],
   "id": "9e32d73f8e157ab6"
  },
  {
   "metadata": {
    "ExecuteTime": {
     "end_time": "2025-10-20T13:41:04.617425Z",
     "start_time": "2025-10-20T13:41:04.570237Z"
    }
   },
   "cell_type": "code",
   "source": "import numpy as np",
   "id": "8790774754bbf1fe",
   "outputs": [],
   "execution_count": 1
  },
  {
   "metadata": {},
   "cell_type": "code",
   "outputs": [],
   "execution_count": null,
   "source": [
    "arr = np.arange(10)\n",
    "print(arr)\n",
    "cut = arr[:3]       #创建arr的切片cut\n",
    "print(cut)\n",
    "cut[0] = 100        #对切片的数值进行改变\n",
    "print(cut)\n",
    "print(arr)          #原数组也被改变"
   ],
   "id": "6959416b37f2ff48"
  },
  {
   "metadata": {},
   "cell_type": "markdown",
   "source": [
    "习惯 Matlab 的用户可能无法理解，但其实这正是 NumPy 的精妙之处。试想一下，一个几百万条数据的数组，每次切片时都创建一个新变量，势必造成大量的内存浪费。因此，NumPy 的切片被设计为原数组的视图是极好的。\n",
    "\n",
    "深度学习中为节省内存，将多次使用 arr[:]=<表达式> 来替代 arr=<表达式>。\n",
    "\n",
    "（2）备份切片为新变量\n",
    "\n",
    "如果真的需要为切片创建新变量（这种情况很稀少），使用 .copy() 方法。"
   ],
   "id": "b1f83bd35c4e871e"
  },
  {
   "metadata": {
    "ExecuteTime": {
     "end_time": "2025-10-20T13:47:00.739046Z",
     "start_time": "2025-10-20T13:47:00.735620Z"
    }
   },
   "cell_type": "code",
   "source": [
    "arr = np.arange(10)\n",
    "print(arr)\n",
    "copy = arr[:3].copy()   #创建arr的拷贝切片\n",
    "print(copy)\n",
    "copy[0] = 100           #对拷贝切片的数值进行修改\n",
    "print(copy)\n",
    "print(arr)              #原数组不为所动"
   ],
   "id": "59e5c8240857385f",
   "outputs": [
    {
     "name": "stdout",
     "output_type": "stream",
     "text": [
      "[0 1 2 3 4 5 6 7 8 9]\n",
      "[0 1 2]\n",
      "[100   1   2]\n",
      "[0 1 2 3 4 5 6 7 8 9]\n"
     ]
    }
   ],
   "execution_count": 2
  }
 ],
 "metadata": {
  "kernelspec": {
   "display_name": "Python 3",
   "language": "python",
   "name": "python3"
  },
  "language_info": {
   "codemirror_mode": {
    "name": "ipython",
    "version": 2
   },
   "file_extension": ".py",
   "mimetype": "text/x-python",
   "name": "python",
   "nbconvert_exporter": "python",
   "pygments_lexer": "ipython2",
   "version": "2.7.6"
  }
 },
 "nbformat": 4,
 "nbformat_minor": 5
}
