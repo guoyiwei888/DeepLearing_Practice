{
 "cells": [
  {
   "metadata": {
    "ExecuteTime": {
     "end_time": "2025-10-22T07:58:14.891191Z",
     "start_time": "2025-10-22T07:58:14.224817Z"
    }
   },
   "cell_type": "code",
   "source": "import pandas as pd",
   "id": "f4038295fb860af3",
   "outputs": [],
   "execution_count": 2
  },
  {
   "metadata": {
    "ExecuteTime": {
     "end_time": "2025-10-21T11:19:39.883329Z",
     "start_time": "2025-10-21T11:19:39.878441Z"
    }
   },
   "cell_type": "code",
   "source": [
    "v1 = [53,64,72,81,90]\n",
    "i = ['1号','2号','3号','4号','5号']\n",
    "sr1 = pd.Series(v1,index=i)\n",
    "print(sr1)"
   ],
   "id": "7cb35ab180547a79",
   "outputs": [
    {
     "name": "stdout",
     "output_type": "stream",
     "text": [
      "1号    53\n",
      "2号    64\n",
      "3号    72\n",
      "4号    81\n",
      "5号    90\n",
      "dtype: int64\n"
     ]
    }
   ],
   "execution_count": 5
  },
  {
   "metadata": {
    "ExecuteTime": {
     "end_time": "2025-10-21T11:19:38.747086Z",
     "start_time": "2025-10-21T11:19:38.736341Z"
    }
   },
   "cell_type": "code",
   "source": [
    "v2 = ['女','男','男','女']\n",
    "i = ['1号','2号','3号','4号']\n",
    "sr2 = pd.Series(v2,index=i)\n",
    "print(sr2)"
   ],
   "id": "a3f0d15090f50230",
   "outputs": [
    {
     "name": "stdout",
     "output_type": "stream",
     "text": [
      "1号    女\n",
      "2号    男\n",
      "3号    男\n",
      "4号    女\n",
      "dtype: object\n"
     ]
    }
   ],
   "execution_count": 4
  },
  {
   "metadata": {
    "ExecuteTime": {
     "end_time": "2025-10-21T11:19:55.505966Z",
     "start_time": "2025-10-21T11:19:55.485754Z"
    }
   },
   "cell_type": "code",
   "source": [
    "df = pd.DataFrame({'年龄':sr1,'性别':sr2})\n",
    "df"
   ],
   "id": "36d458132e71d238",
   "outputs": [
    {
     "data": {
      "text/plain": [
       "    年龄   性别\n",
       "1号  53    女\n",
       "2号  64    男\n",
       "3号  72    男\n",
       "4号  81    女\n",
       "5号  90  NaN"
      ],
      "text/html": [
       "<div>\n",
       "<style scoped>\n",
       "    .dataframe tbody tr th:only-of-type {\n",
       "        vertical-align: middle;\n",
       "    }\n",
       "\n",
       "    .dataframe tbody tr th {\n",
       "        vertical-align: top;\n",
       "    }\n",
       "\n",
       "    .dataframe thead th {\n",
       "        text-align: right;\n",
       "    }\n",
       "</style>\n",
       "<table border=\"1\" class=\"dataframe\">\n",
       "  <thead>\n",
       "    <tr style=\"text-align: right;\">\n",
       "      <th></th>\n",
       "      <th>年龄</th>\n",
       "      <th>性别</th>\n",
       "    </tr>\n",
       "  </thead>\n",
       "  <tbody>\n",
       "    <tr>\n",
       "      <th>1号</th>\n",
       "      <td>53</td>\n",
       "      <td>女</td>\n",
       "    </tr>\n",
       "    <tr>\n",
       "      <th>2号</th>\n",
       "      <td>64</td>\n",
       "      <td>男</td>\n",
       "    </tr>\n",
       "    <tr>\n",
       "      <th>3号</th>\n",
       "      <td>72</td>\n",
       "      <td>男</td>\n",
       "    </tr>\n",
       "    <tr>\n",
       "      <th>4号</th>\n",
       "      <td>81</td>\n",
       "      <td>女</td>\n",
       "    </tr>\n",
       "    <tr>\n",
       "      <th>5号</th>\n",
       "      <td>90</td>\n",
       "      <td>NaN</td>\n",
       "    </tr>\n",
       "  </tbody>\n",
       "</table>\n",
       "</div>"
      ]
     },
     "execution_count": 7,
     "metadata": {},
     "output_type": "execute_result"
    }
   ],
   "execution_count": 7
  },
  {
   "metadata": {
    "ExecuteTime": {
     "end_time": "2025-10-22T07:58:52.180439Z",
     "start_time": "2025-10-22T07:58:52.171254Z"
    }
   },
   "cell_type": "code",
   "source": [
    "v = [ [53, 64, 72, 82], [ '女', '男', '男', '女' ] ]\n",
    "i = [ '年龄', '性别' ]\n",
    "c = [ '1 号', '2 号', '3 号', '4 号' ]\n",
    "df = pd.DataFrame( v, index=i, columns=c )\n",
    "print(df)\n",
    "df.iloc[::-1,:]"
   ],
   "id": "f5070724f8655bb",
   "outputs": [
    {
     "name": "stdout",
     "output_type": "stream",
     "text": [
      "   1 号 2 号 3 号 4 号\n",
      "年龄  53  64  72  82\n",
      "性别   女   男   男   女\n"
     ]
    },
    {
     "data": {
      "text/plain": [
       "   1 号 2 号 3 号 4 号\n",
       "性别   女   男   男   女\n",
       "年龄  53  64  72  82"
      ],
      "text/html": [
       "<div>\n",
       "<style scoped>\n",
       "    .dataframe tbody tr th:only-of-type {\n",
       "        vertical-align: middle;\n",
       "    }\n",
       "\n",
       "    .dataframe tbody tr th {\n",
       "        vertical-align: top;\n",
       "    }\n",
       "\n",
       "    .dataframe thead th {\n",
       "        text-align: right;\n",
       "    }\n",
       "</style>\n",
       "<table border=\"1\" class=\"dataframe\">\n",
       "  <thead>\n",
       "    <tr style=\"text-align: right;\">\n",
       "      <th></th>\n",
       "      <th>1 号</th>\n",
       "      <th>2 号</th>\n",
       "      <th>3 号</th>\n",
       "      <th>4 号</th>\n",
       "    </tr>\n",
       "  </thead>\n",
       "  <tbody>\n",
       "    <tr>\n",
       "      <th>性别</th>\n",
       "      <td>女</td>\n",
       "      <td>男</td>\n",
       "      <td>男</td>\n",
       "      <td>女</td>\n",
       "    </tr>\n",
       "    <tr>\n",
       "      <th>年龄</th>\n",
       "      <td>53</td>\n",
       "      <td>64</td>\n",
       "      <td>72</td>\n",
       "      <td>82</td>\n",
       "    </tr>\n",
       "  </tbody>\n",
       "</table>\n",
       "</div>"
      ]
     },
     "execution_count": 4,
     "metadata": {},
     "output_type": "execute_result"
    }
   ],
   "execution_count": 4
  },
  {
   "metadata": {
    "ExecuteTime": {
     "end_time": "2025-10-21T14:30:35.711234Z",
     "start_time": "2025-10-21T14:30:35.704429Z"
    }
   },
   "cell_type": "code",
   "source": [
    "v = [ [53, 64, 72, 82], [ '女', '男', '男', '女' ] ]\n",
    "i = [ '年龄', '性别' ]\n",
    "c = [ '1 号', '2 号', '3 号', '4 号' ]\n",
    "df = pd.DataFrame( v, index=i, columns=c )\n",
    "print(df)\n",
    "df.iloc[:,::-1]"
   ],
   "id": "e8b5a0e709c173e9",
   "outputs": [
    {
     "name": "stdout",
     "output_type": "stream",
     "text": [
      "   1 号 2 号 3 号 4 号\n",
      "年龄  53  64  72  82\n",
      "性别   女   男   男   女\n"
     ]
    },
    {
     "data": {
      "text/plain": [
       "   4 号 3 号 2 号 1 号\n",
       "年龄  82  72  64  53\n",
       "性别   女   男   男   女"
      ],
      "text/html": [
       "<div>\n",
       "<style scoped>\n",
       "    .dataframe tbody tr th:only-of-type {\n",
       "        vertical-align: middle;\n",
       "    }\n",
       "\n",
       "    .dataframe tbody tr th {\n",
       "        vertical-align: top;\n",
       "    }\n",
       "\n",
       "    .dataframe thead th {\n",
       "        text-align: right;\n",
       "    }\n",
       "</style>\n",
       "<table border=\"1\" class=\"dataframe\">\n",
       "  <thead>\n",
       "    <tr style=\"text-align: right;\">\n",
       "      <th></th>\n",
       "      <th>4 号</th>\n",
       "      <th>3 号</th>\n",
       "      <th>2 号</th>\n",
       "      <th>1 号</th>\n",
       "    </tr>\n",
       "  </thead>\n",
       "  <tbody>\n",
       "    <tr>\n",
       "      <th>年龄</th>\n",
       "      <td>82</td>\n",
       "      <td>72</td>\n",
       "      <td>64</td>\n",
       "      <td>53</td>\n",
       "    </tr>\n",
       "    <tr>\n",
       "      <th>性别</th>\n",
       "      <td>女</td>\n",
       "      <td>男</td>\n",
       "      <td>男</td>\n",
       "      <td>女</td>\n",
       "    </tr>\n",
       "  </tbody>\n",
       "</table>\n",
       "</div>"
      ]
     },
     "execution_count": 12,
     "metadata": {},
     "output_type": "execute_result"
    }
   ],
   "execution_count": 12
  },
  {
   "metadata": {
    "ExecuteTime": {
     "end_time": "2025-10-21T14:39:45.034453Z",
     "start_time": "2025-10-21T14:39:45.029062Z"
    }
   },
   "cell_type": "code",
   "source": [
    "i = [ '1 号', '2 号', '3 号', '4 号' ]\n",
    "v1 = [ 10, 20, 30, 40 ]\n",
    "v2 = [ '女', '男', '男', '女' ]\n",
    "v3 = [ 1, 2, 3, 4 ]\n",
    "sr1 = pd.Series( v1, index=i )\n",
    "sr2 = pd.Series( v2, index=i )\n",
    "sr3 = pd.Series( v3, index=i )\n",
    "df = pd.DataFrame({'年龄':sr1,'性别':sr2})\n",
    "print(df)\n",
    "sr4 = df['年龄']\n",
    "print(df)"
   ],
   "id": "ac7932d62147e0da",
   "outputs": [
    {
     "name": "stdout",
     "output_type": "stream",
     "text": [
      "     年龄 性别\n",
      "1 号  10  女\n",
      "2 号  20  男\n",
      "3 号  30  男\n",
      "4 号  40  女\n",
      "     年龄 性别\n",
      "1 号  10  女\n",
      "2 号  20  男\n",
      "3 号  30  男\n",
      "4 号  40  女\n"
     ]
    }
   ],
   "execution_count": 19
  }
 ],
 "metadata": {
  "kernelspec": {
   "display_name": "Python 3",
   "language": "python",
   "name": "python3"
  },
  "language_info": {
   "codemirror_mode": {
    "name": "ipython",
    "version": 2
   },
   "file_extension": ".py",
   "mimetype": "text/x-python",
   "name": "python",
   "nbconvert_exporter": "python",
   "pygments_lexer": "ipython2",
   "version": "2.7.6"
  }
 },
 "nbformat": 4,
 "nbformat_minor": 5
}
