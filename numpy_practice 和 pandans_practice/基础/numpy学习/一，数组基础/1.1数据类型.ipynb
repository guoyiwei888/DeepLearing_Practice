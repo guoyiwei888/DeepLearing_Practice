{
 "cells": [
  {
   "metadata": {},
   "cell_type": "markdown",
   "source": [
    "#数据类型\n",
    "\n",
    "##整数型数组与浮点型数组\n",
    "\n",
    "  为克服列表的缺点，一个Numpy数组只容纳一种数据类型，已节约内存，为方便起见，可将Numpy数组简单分为整数型数组与浮点型数组。"
   ],
   "id": "aea4bd20205a9c53"
  },
  {
   "metadata": {
    "collapsed": true,
    "ExecuteTime": {
     "end_time": "2025-10-20T11:50:16.366091Z",
     "start_time": "2025-10-20T11:50:16.364073Z"
    }
   },
   "cell_type": "code",
   "source": "import numpy as np",
   "id": "3ce0ab5f971d5760",
   "outputs": [],
   "execution_count": 6
  },
  {
   "metadata": {
    "ExecuteTime": {
     "end_time": "2025-10-20T12:03:12.213979Z",
     "start_time": "2025-10-20T12:03:12.211225Z"
    }
   },
   "cell_type": "code",
   "source": [
    "#创建整数型数组\n",
    "arr1 = np.array([1,2,3])\n",
    "print(arr1)"
   ],
   "id": "ab77c781803c371e",
   "outputs": [
    {
     "name": "stdout",
     "output_type": "stream",
     "text": [
      "[1 2 3]\n"
     ]
    }
   ],
   "execution_count": 10
  },
  {
   "metadata": {
    "ExecuteTime": {
     "end_time": "2025-10-20T12:03:13.533931Z",
     "start_time": "2025-10-20T12:03:13.531148Z"
    }
   },
   "cell_type": "code",
   "source": [
    "#创建浮点型数组\n",
    "arr2 = np.array([1.0,2,3])\n",
    "print(arr2)"
   ],
   "id": "18c4d93b9e75b63f",
   "outputs": [
    {
     "name": "stdout",
     "output_type": "stream",
     "text": [
      "[1. 2. 3.]\n"
     ]
    }
   ],
   "execution_count": 12
  },
  {
   "metadata": {},
   "cell_type": "markdown",
   "source": "  注意，使用print输出Numpy数组后，元素之间没有逗号,这有两个好处，一是可以可将之与Python列表区分开来，二是避免逗号与小数点之间的混淆",
   "id": "bb9efc4f5b489c3d"
  },
  {
   "metadata": {},
   "cell_type": "markdown",
   "source": [
    "##同化定理\n",
    "往整数型数组里面插入浮点数，该浮点数自动截断为整数\n",
    "浮点数组里面插入整数，该整数会自动升级为浮点数"
   ],
   "id": "bb7ba64b4a520a90"
  },
  {
   "metadata": {
    "ExecuteTime": {
     "end_time": "2025-10-20T11:54:28.235550Z",
     "start_time": "2025-10-20T11:54:28.233160Z"
    }
   },
   "cell_type": "code",
   "source": [
    "arr1 = np.array([1,2,3])\n",
    "arr1[0] = 100.9\n",
    "print(arr1)"
   ],
   "id": "eb9648596860588d",
   "outputs": [
    {
     "name": "stdout",
     "output_type": "stream",
     "text": [
      "[100   2   3]\n"
     ]
    }
   ],
   "execution_count": 8
  },
  {
   "metadata": {},
   "cell_type": "code",
   "outputs": [],
   "execution_count": null,
   "source": [
    "arr2 = np.array([1.0,2,3])\n",
    "arr2[1] = 10\n",
    "print(arr2)"
   ],
   "id": "c25ed4efcb568a48"
  },
  {
   "metadata": {},
   "cell_type": "markdown",
   "source": [
    "##共同改变定理\n",
    "整数型数组与浮点型数组相互转换，规范的使用方法为。astype（）方法"
   ],
   "id": "242c24f3bcb9bc41"
  },
  {
   "metadata": {},
   "cell_type": "code",
   "outputs": [],
   "execution_count": null,
   "source": [
    "arr1 = np.array([1,2,3])\n",
    "print(arr1)\n",
    "arr2 = arr1.astype(float)       #转化为浮点数\n",
    "print(arr2)\n",
    "arr3 = arr2.astype(int)         #转化为整数\n",
    "print(arr3)\n",
    "#除了上述方法，也可通过整数型数组与浮点数做运算、整数型数组遇到除法、整数型数组与浮点型数组做运算进行相互转换"
   ],
   "id": "9b22f995b2d54f31"
  },
  {
   "metadata": {},
   "cell_type": "markdown",
   "source": "注意：整数型数组很好升级，单浮点型数组在运算过程中一般不会降级",
   "id": "8b309b28968d0d24"
  }
 ],
 "metadata": {
  "kernelspec": {
   "display_name": "Python 3",
   "language": "python",
   "name": "python3"
  },
  "language_info": {
   "codemirror_mode": {
    "name": "ipython",
    "version": 2
   },
   "file_extension": ".py",
   "mimetype": "text/x-python",
   "name": "python",
   "nbconvert_exporter": "python",
   "pygments_lexer": "ipython2",
   "version": "2.7.6"
  }
 },
 "nbformat": 4,
 "nbformat_minor": 5
}
