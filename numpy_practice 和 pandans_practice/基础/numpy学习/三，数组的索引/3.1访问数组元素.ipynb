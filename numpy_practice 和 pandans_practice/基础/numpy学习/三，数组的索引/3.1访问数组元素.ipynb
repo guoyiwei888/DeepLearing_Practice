{
 "cells": [
  {
   "metadata": {
    "collapsed": true
   },
   "cell_type": "markdown",
   "source": "与 Python 列表一致，访问 NumPy 数组元素时使用中括号，索引由 0 开始。",
   "id": "ad455a887e44658e"
  },
  {
   "metadata": {
    "ExecuteTime": {
     "end_time": "2025-10-20T12:43:40.057380Z",
     "start_time": "2025-10-20T12:43:40.054901Z"
    }
   },
   "cell_type": "code",
   "source": "import numpy as np",
   "id": "1db9bce76020f1a0",
   "outputs": [],
   "execution_count": 4
  },
  {
   "metadata": {
    "ExecuteTime": {
     "end_time": "2025-10-20T12:41:15.110615Z",
     "start_time": "2025-10-20T12:41:15.106422Z"
    }
   },
   "cell_type": "code",
   "source": [
    "arr1 = np.arange(1,10)\n",
    "print(arr1)\n",
    "print(arr1[3])\n",
    "print(arr1[-1])\n",
    "arr1[3] = 100\n",
    "print(arr1)"
   ],
   "id": "4e8940f826f3a8f0",
   "outputs": [
    {
     "name": "stdout",
     "output_type": "stream",
     "text": [
      "[1 2 3 4 5 6 7 8 9]\n",
      "4\n",
      "9\n",
      "[  1   2   3 100   5   6   7   8   9]\n"
     ]
    }
   ],
   "execution_count": 2
  },
  {
   "metadata": {
    "ExecuteTime": {
     "end_time": "2025-10-20T12:43:51.581471Z",
     "start_time": "2025-10-20T12:43:51.578699Z"
    }
   },
   "cell_type": "code",
   "source": [
    "arr2 = np.array([[1,2,3],[4,5,6]])\n",
    "print(arr2)\n",
    "print(arr2[0,2])\n",
    "print(arr2[1,-2])\n",
    "arr2[1,1] = 100\n",
    "print(arr2)"
   ],
   "id": "dde8d6b13a29253f",
   "outputs": [
    {
     "name": "stdout",
     "output_type": "stream",
     "text": [
      "[[1 2 3]\n",
      " [4 5 6]]\n",
      "3\n",
      "5\n",
      "[[  1   2   3]\n",
      " [  4 100   6]]\n"
     ]
    }
   ],
   "execution_count": 7
  }
 ],
 "metadata": {
  "kernelspec": {
   "display_name": "Python 3",
   "language": "python",
   "name": "python3"
  },
  "language_info": {
   "codemirror_mode": {
    "name": "ipython",
    "version": 2
   },
   "file_extension": ".py",
   "mimetype": "text/x-python",
   "name": "python",
   "nbconvert_exporter": "python",
   "pygments_lexer": "ipython2",
   "version": "2.7.6"
  }
 },
 "nbformat": 4,
 "nbformat_minor": 5
}
