{
 "cells": [
  {
   "metadata": {},
   "cell_type": "markdown",
   "source": "递增数组使用np.arange()函数进行创建（arange全称是array_range）",
   "id": "1d50ae3bddbd4bf"
  },
  {
   "metadata": {},
   "cell_type": "code",
   "outputs": [],
   "execution_count": null,
   "source": [
    "import numpy as np\n",
    "arr1 = np.arange(10)            #从0开始到10之前结束\n",
    "print(arr1)\n",
    "arr2 = np.arange(10,20)         #从10开始到20之前结束\n",
    "print(arr2)\n",
    "arr3 = np.arange(10,20,2)       #从10开始到20之前结束，步长为2\n",
    "print(arr3)"
   ],
   "id": "b6bc17aa883cd42e"
  }
 ],
 "metadata": {
  "kernelspec": {
   "display_name": "Python 3",
   "language": "python",
   "name": "python3"
  },
  "language_info": {
   "codemirror_mode": {
    "name": "ipython",
    "version": 2
   },
   "file_extension": ".py",
   "mimetype": "text/x-python",
   "name": "python",
   "nbconvert_exporter": "python",
   "pygments_lexer": "ipython2",
   "version": "2.7.6"
  }
 },
 "nbformat": 4,
 "nbformat_minor": 5
}
