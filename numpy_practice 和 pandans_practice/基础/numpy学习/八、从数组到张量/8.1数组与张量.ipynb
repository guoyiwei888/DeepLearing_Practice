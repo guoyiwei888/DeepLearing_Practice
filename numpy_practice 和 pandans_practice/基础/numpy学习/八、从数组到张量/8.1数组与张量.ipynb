{
 "cells": [
  {
   "metadata": {},
   "cell_type": "markdown",
   "source": "● 本次课属于《Python 深度学习》系列视频，PyTorch 作为当前首屈一指的深度学习库，其将 NumPy 的语法尽数吸收，作为自己处理数组的基本语法，且运算速度从使用 CPU 的数组进步到使用 GPU 的张量。● NumPy 和 PyTorch 的基础语法几乎一致，具体表现为：① np 对应 torch；② 数组 array 对应张量 tensor；③ NumPy 的 n 维数组对应着 PyTorch 的 n 阶张量。● 数组与张量之间可以相互转换：数组 arr 转为张量 ts：ts = torch.tensor (arr)；张量 ts 转为数组 arr：arr = np.array (ts)。\n",
   "id": "6c4213e8eaa30ea4"
  },
  {
   "metadata": {},
   "cell_type": "markdown",
   "source": [
    "为了找到 NumPy 和 PyTorch 哪些语法不同，UP 对本文档进行了替换操作，将 np 改为 torch，将 array 改为 tensor，并重新运行所有代码，得出结论：PyTorch 只是少量修改了 NumPy 的部分函数或方法，现对其中不同的地方进行罗列。\n",
    "\n",
    "表 8-1 PyTorch 修正的 NumPy 函数或方法\n",
    "\n",
    "| 课件位置   | NumPy 的函数          | PyTorch 的函数     | 用法区别               |\n",
    "|------------|-----------------------|--------------------|------------------------|\n",
    "| 1.1 数据类型 | .astype()             | .type()            | 无                     |\n",
    "| 2.4 随机数组 | np.random.random()    | torch.rand()       | 无                     |\n",
    "| 2.4 随机数组 | np.random.randint()   | torch.randint()    | 不接纳向量             |\n",
    "| 2.4 随机数组 | np.random.normal()    | torch.normal()     | 不接纳向量             |\n",
    "| 2.4 随机数组 | np.random.randn()     | torch.randn()      | 无                     |\n",
    "| 3.4 数组切片 | .copy()               | .clone()           | 无                     |\n",
    "| 4.4 数组拼接 | np.concatenate()      | torch.cat()        | 无                     |\n",
    "| 4.5 数组分裂 | np.split()            | torch.split()      | 参数含义优化           |\n",
    "| 6.1 矩阵乘积 | np.dot()              | torch.matmul()     | 无                     |\n",
    "| 6.1 矩阵乘积 | np.dot(v,v)           | torch.dot()        | 无                     |\n",
    "| 6.1 矩阵乘积 | np.dot(m,v)           | torch.mv()         | 无                     |\n",
    "| 6.1 矩阵乘积 | np.dot(m,m)           | torch.mm()         | 无                     |\n",
    "| 6.2 数学函数 | np.exp()              | torch.exp()        | 必须传入张量           |\n",
    "| 6.2 数学函数 | np.log()              | torch.log()        | 必须传入张量           |\n",
    "| 6.3 聚合函数 | np.mean()             | torch.mean()       | 必须传入浮点型数组     |"
   ],
   "id": "bd88c77d52548d41"
  }
 ],
 "metadata": {
  "kernelspec": {
   "display_name": "Python 3",
   "language": "python",
   "name": "python3"
  },
  "language_info": {
   "codemirror_mode": {
    "name": "ipython",
    "version": 2
   },
   "file_extension": ".py",
   "mimetype": "text/x-python",
   "name": "python",
   "nbconvert_exporter": "python",
   "pygments_lexer": "ipython2",
   "version": "2.7.6"
  }
 },
 "nbformat": 4,
 "nbformat_minor": 5
}
