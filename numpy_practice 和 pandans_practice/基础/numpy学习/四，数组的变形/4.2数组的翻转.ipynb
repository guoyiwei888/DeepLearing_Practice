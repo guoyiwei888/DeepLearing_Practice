{
 "cells": [
  {
   "metadata": {
    "collapsed": true
   },
   "cell_type": "markdown",
   "source": "数组的翻转方法有两个，一个是上下翻转的 np.flipud( )，表示 up-down；一个是左右翻转的 np.fliplr( )，表示 left-right。其中，向量只能使用 np.flipud( )，在数学中，向量并不是横着排的，而是竖着排的。",
   "id": "17e0687c42c82d3b"
  },
  {
   "metadata": {
    "ExecuteTime": {
     "end_time": "2025-10-21T05:53:09.129607Z",
     "start_time": "2025-10-21T05:53:09.082965Z"
    }
   },
   "cell_type": "code",
   "source": "import numpy as np",
   "id": "df60c8a302c58beb",
   "outputs": [],
   "execution_count": 1
  },
  {
   "metadata": {
    "ExecuteTime": {
     "end_time": "2025-10-21T05:53:58.582258Z",
     "start_time": "2025-10-21T05:53:58.579118Z"
    }
   },
   "cell_type": "code",
   "source": [
    "arr1 = np.arange(10)\n",
    "print(arr1)\n",
    "arr_ud = np.flipud(arr1)\n",
    "print(arr_ud)"
   ],
   "id": "4b21c56a085daaee",
   "outputs": [
    {
     "name": "stdout",
     "output_type": "stream",
     "text": [
      "[0 1 2 3 4 5 6 7 8 9]\n",
      "[9 8 7 6 5 4 3 2 1 0]\n"
     ]
    }
   ],
   "execution_count": 2
  },
  {
   "metadata": {},
   "cell_type": "code",
   "outputs": [],
   "execution_count": null,
   "source": "",
   "id": "84115addce7db22a"
  }
 ],
 "metadata": {
  "kernelspec": {
   "display_name": "Python 3",
   "language": "python",
   "name": "python3"
  },
  "language_info": {
   "codemirror_mode": {
    "name": "ipython",
    "version": 2
   },
   "file_extension": ".py",
   "mimetype": "text/x-python",
   "name": "python",
   "nbconvert_exporter": "python",
   "pygments_lexer": "ipython2",
   "version": "2.7.6"
  }
 },
 "nbformat": 4,
 "nbformat_minor": 5
}
