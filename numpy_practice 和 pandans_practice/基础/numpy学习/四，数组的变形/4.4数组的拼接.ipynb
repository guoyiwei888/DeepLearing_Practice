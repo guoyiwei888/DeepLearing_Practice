{
 "cells": [
  {
   "cell_type": "code",
   "id": "initial_id",
   "metadata": {
    "collapsed": true,
    "ExecuteTime": {
     "end_time": "2025-10-21T05:57:28.842442Z",
     "start_time": "2025-10-21T05:57:28.837657Z"
    }
   },
   "source": [
    "import numpy as np\n",
    "arr1 = np.arange(3)\n",
    "arr2 = np.arange(4,7)\n",
    "arr3 = np.concatenate([arr1, arr2])\n",
    "print(arr3)"
   ],
   "outputs": [
    {
     "name": "stdout",
     "output_type": "stream",
     "text": [
      "[0 1 2 4 5 6]\n"
     ]
    }
   ],
   "execution_count": 2
  },
  {
   "metadata": {
    "ExecuteTime": {
     "end_time": "2025-10-21T06:27:32.440670Z",
     "start_time": "2025-10-21T06:27:32.437492Z"
    }
   },
   "cell_type": "code",
   "source": [
    "a = np.arange(1,10).reshape(3,3)\n",
    "b = np.arange(10,19).reshape(3,3)\n",
    "c = np.concatenate([a,b], axis=0)           #默认参数axis=0\n",
    "print(c)\n",
    "d = np.concatenate([a,b], axis=1)\n",
    "print(d)"
   ],
   "id": "47ef4d2b6882182a",
   "outputs": [
    {
     "name": "stdout",
     "output_type": "stream",
     "text": [
      "[[ 1  2  3]\n",
      " [ 4  5  6]\n",
      " [ 7  8  9]\n",
      " [10 11 12]\n",
      " [13 14 15]\n",
      " [16 17 18]]\n",
      "[[ 1  2  3 10 11 12]\n",
      " [ 4  5  6 13 14 15]\n",
      " [ 7  8  9 16 17 18]]\n"
     ]
    }
   ],
   "execution_count": 5
  }
 ],
 "metadata": {
  "kernelspec": {
   "display_name": "Python 3",
   "language": "python",
   "name": "python3"
  },
  "language_info": {
   "codemirror_mode": {
    "name": "ipython",
    "version": 2
   },
   "file_extension": ".py",
   "mimetype": "text/x-python",
   "name": "python",
   "nbconvert_exporter": "python",
   "pygments_lexer": "ipython2",
   "version": "2.7.6"
  }
 },
 "nbformat": 4,
 "nbformat_minor": 5
}
