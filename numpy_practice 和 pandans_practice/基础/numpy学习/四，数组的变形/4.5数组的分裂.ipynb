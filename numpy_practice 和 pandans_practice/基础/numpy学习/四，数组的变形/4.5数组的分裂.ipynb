{
 "cells": [
  {
   "cell_type": "code",
   "id": "initial_id",
   "metadata": {
    "collapsed": true,
    "ExecuteTime": {
     "end_time": "2025-10-21T06:03:42.010629Z",
     "start_time": "2025-10-21T06:03:42.007935Z"
    }
   },
   "source": [
    "import numpy as np\n",
    "a = np.arange(10,90,10)\n",
    "print(a)\n",
    "arr1,arr2,arr3= np.split(a,[2,7])\n",
    "print(arr1)\n",
    "print(arr2)\n",
    "print(arr3)"
   ],
   "outputs": [
    {
     "name": "stdout",
     "output_type": "stream",
     "text": [
      "[10 20 30 40 50 60 70 80]\n",
      "[10 20]\n",
      "[30 40 50 60 70]\n",
      "[80]\n"
     ]
    }
   ],
   "execution_count": 7
  },
  {
   "metadata": {
    "ExecuteTime": {
     "end_time": "2025-10-21T06:06:35.830866Z",
     "start_time": "2025-10-21T06:06:35.827530Z"
    }
   },
   "cell_type": "code",
   "source": [
    "arr = np.arange(1,10).reshape(3,3)\n",
    "print(arr)\n",
    "arr1,arr2 = np.split(arr,[1])       #默认参数asis=0\n",
    "print(arr1,'\\n\\n',arr2)"
   ],
   "id": "94cb61457e2daa15",
   "outputs": [
    {
     "name": "stdout",
     "output_type": "stream",
     "text": [
      "[[1 2 3]\n",
      " [4 5 6]\n",
      " [7 8 9]]\n",
      "[[1 2 3]] \n",
      "\n",
      " [[4 5 6]\n",
      " [7 8 9]]\n"
     ]
    }
   ],
   "execution_count": 9
  },
  {
   "metadata": {},
   "cell_type": "code",
   "outputs": [],
   "execution_count": null,
   "source": "",
   "id": "4d6083542df08080"
  }
 ],
 "metadata": {
  "kernelspec": {
   "display_name": "Python 3",
   "language": "python",
   "name": "python3"
  },
  "language_info": {
   "codemirror_mode": {
    "name": "ipython",
    "version": 2
   },
   "file_extension": ".py",
   "mimetype": "text/x-python",
   "name": "python",
   "nbconvert_exporter": "python",
   "pygments_lexer": "ipython2",
   "version": "2.7.6"
  }
 },
 "nbformat": 4,
 "nbformat_minor": 5
}
