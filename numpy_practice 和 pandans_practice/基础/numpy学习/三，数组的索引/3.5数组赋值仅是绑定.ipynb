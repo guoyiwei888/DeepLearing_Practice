{
 "cells": [
  {
   "metadata": {
    "collapsed": true
   },
   "cell_type": "markdown",
   "source": [
    "3.5 数组赋值仅是绑定\n",
    "（1）数组赋值仅是绑定\n",
    "与 NumPy 数组的切片一样，NumPy 数组完整的赋值给另一个数组，也只是绑定。换言之，NumPy 数组之间的赋值并不会创建新的变量，示例如下。"
   ],
   "id": "bfd57f33d0174c5e"
  },
  {
   "metadata": {
    "ExecuteTime": {
     "end_time": "2025-10-20T13:48:20.095129Z",
     "start_time": "2025-10-20T13:48:20.050337Z"
    }
   },
   "cell_type": "code",
   "source": "import numpy as np",
   "id": "958a20801505e050",
   "outputs": [],
   "execution_count": 1
  },
  {
   "metadata": {
    "ExecuteTime": {
     "end_time": "2025-10-20T13:56:06.357060Z",
     "start_time": "2025-10-20T13:56:06.353690Z"
    }
   },
   "cell_type": "code",
   "source": [
    "arr1 = np.arange(1,10).reshape(3,3)\n",
    "print(arr1)\n",
    "arr2 = arr1             #把数值1赋给数值2\n",
    "print(arr2)\n",
    "arr2[0][0] = 100        #修改数组2\n",
    "print(arr2)\n",
    "print(arr1)             #原数组也被改变"
   ],
   "id": "1eb0419252f7333d",
   "outputs": [
    {
     "name": "stdout",
     "output_type": "stream",
     "text": [
      "[[1 2 3]\n",
      " [4 5 6]\n",
      " [7 8 9]]\n",
      "[[1 2 3]\n",
      " [4 5 6]\n",
      " [7 8 9]]\n",
      "[[100   2   3]\n",
      " [  4   5   6]\n",
      " [  7   8   9]]\n",
      "[[100   2   3]\n",
      " [  4   5   6]\n",
      " [  7   8   9]]\n"
     ]
    }
   ],
   "execution_count": 4
  }
 ],
 "metadata": {
  "kernelspec": {
   "display_name": "Python 3",
   "language": "python",
   "name": "python3"
  },
  "language_info": {
   "codemirror_mode": {
    "name": "ipython",
    "version": 2
   },
   "file_extension": ".py",
   "mimetype": "text/x-python",
   "name": "python",
   "nbconvert_exporter": "python",
   "pygments_lexer": "ipython2",
   "version": "2.7.6"
  }
 },
 "nbformat": 4,
 "nbformat_minor": 5
}
