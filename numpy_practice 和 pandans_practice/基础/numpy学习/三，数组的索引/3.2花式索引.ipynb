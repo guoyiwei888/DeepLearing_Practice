{
 "cells": [
  {
   "metadata": {
    "collapsed": true
   },
   "cell_type": "markdown",
   "source": [
    "花式索引（Fancy indexing）又名“花哨的索引”，UP认为不应该用“花哨”来形容，这里的Fancy应取“华丽的、巧妙的、奢华的、时髦的”之义。\n",
    "上一小节访问单个元素时，向量用arr1[x]，矩阵用arr2[x,y]。逗号在矩阵里用于区分行与列，这一小节，逗号新增一个功能，且不会与矩阵里的逗号混淆。"
   ],
   "id": "80ed7d01b54463f5"
  },
  {
   "metadata": {
    "ExecuteTime": {
     "end_time": "2025-10-20T12:46:45.324504Z",
     "start_time": "2025-10-20T12:46:45.279575Z"
    }
   },
   "cell_type": "code",
   "source": "import numpy as np",
   "id": "8cce8e114c746aff",
   "outputs": [],
   "execution_count": 1
  },
  {
   "metadata": {
    "ExecuteTime": {
     "end_time": "2025-10-20T12:48:12.852172Z",
     "start_time": "2025-10-20T12:48:12.847454Z"
    }
   },
   "cell_type": "code",
   "source": [
    "arr1 = np.arange(0,90,10)\n",
    "print(arr1)\n",
    "print(arr1[[0,2]])"
   ],
   "id": "b111c34dfbaaf624",
   "outputs": [
    {
     "name": "stdout",
     "output_type": "stream",
     "text": [
      "[ 0 10 20 30 40 50 60 70 80]\n",
      "[ 0 20]\n"
     ]
    }
   ],
   "execution_count": 2
  },
  {
   "metadata": {
    "ExecuteTime": {
     "end_time": "2025-10-20T12:51:30.277523Z",
     "start_time": "2025-10-20T12:51:30.272653Z"
    }
   },
   "cell_type": "code",
   "source": [
    "arr2 = np.arange(1,17).reshape(4,4)\n",
    "print(arr2)\n",
    "print(arr2[[0,1],[0,1]])\n",
    "print(arr2[[0,1,2],[2,1,0]])"
   ],
   "id": "acce349e2a49c54e",
   "outputs": [
    {
     "name": "stdout",
     "output_type": "stream",
     "text": [
      "[[ 1  2  3  4]\n",
      " [ 5  6  7  8]\n",
      " [ 9 10 11 12]\n",
      " [13 14 15 16]]\n",
      "[1 6]\n",
      "[3 6 9]\n"
     ]
    }
   ],
   "execution_count": 3
  },
  {
   "metadata": {},
   "cell_type": "markdown",
   "source": [
    "根据以上实例，花式索引也就是用向量来替代普通索引的行列元素，且花式索引输出的仍然是一个向量。\n",
    "\n",
    "表 3-1 普通索引与花式索引的区别\n",
    "\n",
    "| 索引方式 | 向量                | 矩阵                                   |\n",
    "| -------- | ------------------- | -------------------------------------- |\n",
    "| 普通索引 | arr1\\[x₁]           | arr2\\[x₁, y₁]                          |\n",
    "| 花式索引 | arr1\\[[x₁,x₂,…,xₙ]] | arr2\\[[x₁,x₂,…,xₙ], [y₁,y₂,…,yₙ]] |"
   ],
   "id": "39931c2a7507156b"
  }
 ],
 "metadata": {
  "kernelspec": {
   "display_name": "Python 3",
   "language": "python",
   "name": "python3"
  },
  "language_info": {
   "codemirror_mode": {
    "name": "ipython",
    "version": 2
   },
   "file_extension": ".py",
   "mimetype": "text/x-python",
   "name": "python",
   "nbconvert_exporter": "python",
   "pygments_lexer": "ipython2",
   "version": "2.7.6"
  }
 },
 "nbformat": 4,
 "nbformat_minor": 5
}
