{
 "cells": [
  {
   "metadata": {},
   "cell_type": "markdown",
   "source": [
    "（1）一维维度与二维数组考虑到深度学习中三维及其以上的数组出现次数少，我们后续主要讲解 NumPy 中的一维数组和二维数组，学了一维和二维后，很好类推到三维。\n",
    "● 不同维度的数组之间，从外形上的本质区别是\n",
    "一维数组使用 1 层中括号表示；\n",
    "二维数组使用 2 层中括号表示；\n",
    "三维数组使用 3 层中括号表示。\n",
    "● 有些函数需要传入数组的形状参数，不同维度数组的形状参数为\n",
    "一维数组的形状参数形如：x 或 (x,)；\n",
    "二维数组的形状参数形如：(x,y)；\n",
    "三维数组的形状参数形如：(x,y,z)。\n",
    "● 现在以同一个序列进行举例当数组有 1 层中括号，如 [1 2 3]，则其为一维数组，其形状是 3 或 (3,)；\n",
    "当数组有 2 层中括号，如 [[1 2 3]]，则其为二维数组，其形状是 (1,3)；\n",
    "当数组有 3 层中括号，如 [[[1 2 3]]]，则其为三维数组，其形状是 (1,1,3)；\n",
    "这里用后面要讲的 np.ones () 函数进行演示，只因其刚好需要传入形状参数。"
   ],
   "id": "5b39a62914df0e59"
  },
  {
   "metadata": {
    "ExecuteTime": {
     "end_time": "2025-10-20T12:09:41.070875Z",
     "start_time": "2025-10-20T12:09:41.068964Z"
    }
   },
   "cell_type": "code",
   "source": "import numpy as np",
   "id": "1846bb61b84f65a9",
   "outputs": [],
   "execution_count": 2
  },
  {
   "metadata": {
    "ExecuteTime": {
     "end_time": "2025-10-20T12:09:41.972816Z",
     "start_time": "2025-10-20T12:09:41.970241Z"
    }
   },
   "cell_type": "code",
   "source": [
    "arr1 = np.ones(3)\n",
    "print(arr1)"
   ],
   "id": "3867da1a8bd70779",
   "outputs": [
    {
     "name": "stdout",
     "output_type": "stream",
     "text": [
      "[1. 1. 1.]\n"
     ]
    }
   ],
   "execution_count": 3
  },
  {
   "metadata": {
    "ExecuteTime": {
     "end_time": "2025-10-20T12:09:43.188388Z",
     "start_time": "2025-10-20T12:09:43.185780Z"
    }
   },
   "cell_type": "code",
   "source": [
    "arr2 = np.ones((1,3))\n",
    "print(arr2)"
   ],
   "id": "1c7d675a172b924f",
   "outputs": [
    {
     "name": "stdout",
     "output_type": "stream",
     "text": [
      "[[1. 1. 1.]]\n"
     ]
    }
   ],
   "execution_count": 4
  },
  {
   "metadata": {
    "ExecuteTime": {
     "end_time": "2025-10-20T12:09:45.302871Z",
     "start_time": "2025-10-20T12:09:45.300117Z"
    }
   },
   "cell_type": "code",
   "source": [
    "arr3 = np.ones((1,1,3))\n",
    "print(arr3)"
   ],
   "id": "b42b5b39758b848d",
   "outputs": [
    {
     "name": "stdout",
     "output_type": "stream",
     "text": [
      "[[[1. 1. 1.]]]\n"
     ]
    }
   ],
   "execution_count": 5
  },
  {
   "metadata": {},
   "cell_type": "markdown",
   "source": "可以通过shape方法查看形状",
   "id": "dac7fd53456d28a6"
  },
  {
   "metadata": {},
   "cell_type": "markdown",
   "source": "（2）不同维度数组之间的转换一维数组转二维数组，或是二维数组转一维数组，都要用到数组的重塑方法 .reshape()，该方法需要传入重塑后的形状（shape）参数。这个方法的巧妙之处在于，给定其他维度的数值后，剩下一个维度可以填 -1，让它自动计算。比如把一个 5 行 6 列的矩阵重塑为 3 行 10 列的矩阵时，若告知列的参数是 10，行的参数直接用 -1 替代即可，它会自动用 30（5×6 的结果）除以 10 来计算行数。首先，演示将一维数组升级为二维数组。\n",
   "id": "b0c6d8308d96601d"
  },
  {
   "metadata": {
    "ExecuteTime": {
     "end_time": "2025-10-20T12:13:58.466106Z",
     "start_time": "2025-10-20T12:13:58.462963Z"
    }
   },
   "cell_type": "code",
   "source": [
    "arr1 =np.arange(9)\n",
    "print(arr1)\n",
    "arr2 = arr1.reshape(3,3)        #一维升级为二维\n",
    "print(arr2)\n",
    "arr3 = arr2.reshape(-1)         #二维降为一维\n",
    "print(arr3)"
   ],
   "id": "fb745f963959ddac",
   "outputs": [
    {
     "name": "stdout",
     "output_type": "stream",
     "text": [
      "[0 1 2 3 4 5 6 7 8]\n",
      "[[0 1 2]\n",
      " [3 4 5]\n",
      " [6 7 8]]\n"
     ]
    }
   ],
   "execution_count": 9
  }
 ],
 "metadata": {
  "kernelspec": {
   "display_name": "Python 3",
   "language": "python",
   "name": "python3"
  },
  "language_info": {
   "codemirror_mode": {
    "name": "ipython",
    "version": 2
   },
   "file_extension": ".py",
   "mimetype": "text/x-python",
   "name": "python",
   "nbconvert_exporter": "python",
   "pygments_lexer": "ipython2",
   "version": "2.7.6"
  }
 },
 "nbformat": 4,
 "nbformat_minor": 5
}
