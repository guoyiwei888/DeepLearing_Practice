{
 "cells": [
  {
   "metadata": {},
   "cell_type": "markdown",
   "source": [
    "数组的转置方法为 `.T` 只对矩阵有效，因此遇到向量要先将其转化为矩阵。\n",
    "\n",
    "（1）向量的转置"
   ],
   "id": "83a0733bcb9e72ef"
  },
  {
   "metadata": {
    "collapsed": true,
    "ExecuteTime": {
     "end_time": "2025-10-21T05:46:04.523360Z",
     "start_time": "2025-10-21T05:46:04.521594Z"
    }
   },
   "cell_type": "code",
   "source": "import numpy as np",
   "id": "b0ae15aef0761f83",
   "outputs": [],
   "execution_count": 2
  },
  {
   "metadata": {
    "ExecuteTime": {
     "end_time": "2025-10-21T05:47:43.205182Z",
     "start_time": "2025-10-21T05:47:43.198531Z"
    }
   },
   "cell_type": "code",
   "source": [
    "arr1 = np.arange(1,4)\n",
    "print(arr1)\n",
    "arr2 = arr1.reshape((1,-1))\n",
    "print(arr2)\n",
    "arr3 = arr2.T\n",
    "print(arr3)"
   ],
   "id": "5cb5eec82771b579",
   "outputs": [
    {
     "name": "stdout",
     "output_type": "stream",
     "text": [
      "[1 2 3]\n",
      "[[1 2 3]]\n",
      "[[1]\n",
      " [2]\n",
      " [3]]\n"
     ]
    }
   ],
   "execution_count": 3
  },
  {
   "metadata": {},
   "cell_type": "markdown",
   "source": "(2) 矩阵的转置",
   "id": "ed84a318507e97b0"
  },
  {
   "metadata": {},
   "cell_type": "code",
   "outputs": [],
   "execution_count": null,
   "source": [
    "arr1 = np.arange(4).reshape(2,2)\n",
    "print(arr1)\n",
    "arr2 = arr1.T\n",
    "print(arr2)"
   ],
   "id": "c8108d51f58244a9"
  }
 ],
 "metadata": {
  "kernelspec": {
   "display_name": "Python 3",
   "language": "python",
   "name": "python3"
  },
  "language_info": {
   "codemirror_mode": {
    "name": "ipython",
    "version": 2
   },
   "file_extension": ".py",
   "mimetype": "text/x-python",
   "name": "python",
   "nbconvert_exporter": "python",
   "pygments_lexer": "ipython2",
   "version": "2.7.6"
  }
 },
 "nbformat": 4,
 "nbformat_minor": 5
}
