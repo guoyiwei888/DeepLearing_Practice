{
 "cells": [
  {
   "metadata": {},
   "cell_type": "markdown",
   "source": "有时需要创建随机数组，那么可以通过使用np.random系列函数实现",
   "id": "d3f5739fdefc0d79"
  },
  {
   "metadata": {
    "ExecuteTime": {
     "end_time": "2025-10-20T12:35:34.564929Z",
     "start_time": "2025-10-20T12:35:34.523513Z"
    }
   },
   "cell_type": "code",
   "source": "import numpy as np",
   "id": "94e349ea8909b032",
   "outputs": [],
   "execution_count": 2
  },
  {
   "metadata": {
    "ExecuteTime": {
     "end_time": "2025-10-20T12:35:53.865450Z",
     "start_time": "2025-10-20T12:35:53.862920Z"
    }
   },
   "cell_type": "code",
   "source": [
    "arr1 = 90*np.random.random(5)+10      #0-1均匀分布的浮点型随机数组\n",
    "print(arr1)\n",
    "arr1 = arr1.astype(int)\n",
    "print(arr1)"
   ],
   "id": "2d2c87b6443c062",
   "outputs": [
    {
     "name": "stdout",
     "output_type": "stream",
     "text": [
      "[95.50750231 30.76011413 46.37119391 57.78409367 10.92105525]\n",
      "[95 30 46 57 10]\n"
     ]
    }
   ],
   "execution_count": 8
  },
  {
   "metadata": {},
   "cell_type": "markdown",
   "source": "在 In [2] 中，如果想创建 60 - 100 范围内均匀分布的 3 行 3 列随机数组，可输入 (100 - 60)*np.random.random ((3,3)) + 60。",
   "id": "733fc60ab31964fb"
  },
  {
   "metadata": {},
   "cell_type": "code",
   "outputs": [],
   "execution_count": null,
   "source": [
    "arr2 = np.random.randint(10,100,(1,15))     #形状为（1,15）的矩阵\n",
    "print(arr2)"
   ],
   "id": "da949636dd3c7ad7"
  },
  {
   "metadata": {},
   "cell_type": "code",
   "outputs": [],
   "execution_count": null,
   "source": [
    "arr3 = np.random.normal(0,1,(2,3))      #服从正态分布的随机数组，形状为（2,3）矩阵 normal也可换为randn\n",
    "print(arr3)"
   ],
   "id": "17e96710a3bcc632"
  }
 ],
 "metadata": {
  "kernelspec": {
   "display_name": "Python 3",
   "language": "python",
   "name": "python3"
  },
  "language_info": {
   "codemirror_mode": {
    "name": "ipython",
    "version": 2
   },
   "file_extension": ".py",
   "mimetype": "text/x-python",
   "name": "python",
   "nbconvert_exporter": "python",
   "pygments_lexer": "ipython2",
   "version": "2.7.6"
  }
 },
 "nbformat": 4,
 "nbformat_minor": 5
}
